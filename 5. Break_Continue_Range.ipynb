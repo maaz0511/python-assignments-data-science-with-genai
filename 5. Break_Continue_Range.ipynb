{
  "nbformat": 4,
  "nbformat_minor": 0,
  "metadata": {
    "colab": {
      "provenance": []
    },
    "kernelspec": {
      "name": "python3",
      "display_name": "Python 3"
    },
    "language_info": {
      "name": "python"
    }
  },
  "cells": [
    {
      "cell_type": "code",
      "source": [
        "# 1. Write a program to print numbers from 1 to 10, but stop if the number is 5.\n",
        "\n",
        "for i in range(1,11):\n",
        "  if i == 5:\n",
        "    break\n",
        "  print(i)"
      ],
      "metadata": {
        "colab": {
          "base_uri": "https://localhost:8080/"
        },
        "id": "qTZxLuIhy-qt",
        "outputId": "a55ae2b4-31d8-439f-98e7-1708ec14ab86"
      },
      "execution_count": 3,
      "outputs": [
        {
          "output_type": "stream",
          "name": "stdout",
          "text": [
            "1\n",
            "2\n",
            "3\n",
            "4\n"
          ]
        }
      ]
    },
    {
      "cell_type": "code",
      "source": [
        "# 2. Write a program to iterate through a list and stop when encountering a specific element.\n",
        "\n",
        "l = [1,2,3,'pwskills', 'genai', 'machine learning']\n",
        "\n",
        "for i in l:\n",
        "  if i == \"genai\":\n",
        "    break\n",
        "  print(i)"
      ],
      "metadata": {
        "colab": {
          "base_uri": "https://localhost:8080/"
        },
        "id": "WPPQyFAMy-oX",
        "outputId": "cf0a3e7e-ff48-4b49-a1ce-15166dd1a897"
      },
      "execution_count": 4,
      "outputs": [
        {
          "output_type": "stream",
          "name": "stdout",
          "text": [
            "1\n",
            "2\n",
            "3\n",
            "pwskills\n"
          ]
        }
      ]
    },
    {
      "cell_type": "code",
      "source": [
        "# 3. Write a program to skip printing even numbers from 1 to 10.\n",
        "\n",
        "for i in range(1,11):\n",
        "  if i % 2 == 0:\n",
        "    continue\n",
        "  print(i)"
      ],
      "metadata": {
        "colab": {
          "base_uri": "https://localhost:8080/"
        },
        "id": "kNfNVsWUy-l7",
        "outputId": "14fdf5bc-6139-45c3-e705-c221988df4be"
      },
      "execution_count": 5,
      "outputs": [
        {
          "output_type": "stream",
          "name": "stdout",
          "text": [
            "1\n",
            "3\n",
            "5\n",
            "7\n",
            "9\n"
          ]
        }
      ]
    },
    {
      "cell_type": "code",
      "source": [
        "# 4. Write a program to print numbers from 0 to 9 using range().\n",
        "\n",
        "for i in range(0,10):\n",
        "  print(i)"
      ],
      "metadata": {
        "colab": {
          "base_uri": "https://localhost:8080/"
        },
        "id": "CgLuNaUOy-jh",
        "outputId": "230ea1c5-da1c-4953-95b5-e239f69a7bd2"
      },
      "execution_count": 6,
      "outputs": [
        {
          "output_type": "stream",
          "name": "stdout",
          "text": [
            "0\n",
            "1\n",
            "2\n",
            "3\n",
            "4\n",
            "5\n",
            "6\n",
            "7\n",
            "8\n",
            "9\n"
          ]
        }
      ]
    },
    {
      "cell_type": "code",
      "source": [
        "# 5. Write a program to print multiplication tables from 1 to 5, but stop after the first table is printed for each number.\n",
        "\n",
        "# way 1\n",
        "for i in range(1,6):\n",
        "  print(f\"{i} * 1 = {i * 1}\")"
      ],
      "metadata": {
        "colab": {
          "base_uri": "https://localhost:8080/"
        },
        "id": "j1qfqkPvy-gq",
        "outputId": "ac4b2c19-9a74-4837-e2f6-01baa7737beb"
      },
      "execution_count": 10,
      "outputs": [
        {
          "output_type": "stream",
          "name": "stdout",
          "text": [
            "1 * 1 = 1\n",
            "2 * 1 = 2\n",
            "3 * 1 = 3\n",
            "4 * 1 = 4\n",
            "5 * 1 = 5\n"
          ]
        }
      ]
    },
    {
      "cell_type": "code",
      "source": [
        "# way 2\n",
        "\n",
        "for i in range(1,6):\n",
        "  for j in range(1,11):\n",
        "    if j==1:\n",
        "      print(f\"{i} * {j} = {i * j}\")\n",
        "      break\n",
        "  print()"
      ],
      "metadata": {
        "colab": {
          "base_uri": "https://localhost:8080/"
        },
        "id": "qIUkuR-G09rh",
        "outputId": "88dc9d54-e86c-4f29-e2b0-64ed19487294"
      },
      "execution_count": 14,
      "outputs": [
        {
          "output_type": "stream",
          "name": "stdout",
          "text": [
            "1 * 1 = 1\n",
            "\n",
            "2 * 1 = 2\n",
            "\n",
            "3 * 1 = 3\n",
            "\n",
            "4 * 1 = 4\n",
            "\n",
            "5 * 1 = 5\n",
            "\n"
          ]
        }
      ]
    },
    {
      "cell_type": "code",
      "source": [
        "# 6. Write a program to skip printing even numbers using a while loop.\n",
        "\n",
        "i = 1\n",
        "while (i<=100):\n",
        "  if i % 2 == 0:\n",
        "    i = i + 1\n",
        "    continue\n",
        "  print(i)\n",
        "  i = i + 1"
      ],
      "metadata": {
        "colab": {
          "base_uri": "https://localhost:8080/"
        },
        "id": "JEuFMDhty-dn",
        "outputId": "feed968f-3b97-4349-ffba-a080f10bfda3"
      },
      "execution_count": 9,
      "outputs": [
        {
          "output_type": "stream",
          "name": "stdout",
          "text": [
            "1\n",
            "3\n",
            "5\n",
            "7\n",
            "9\n",
            "11\n",
            "13\n",
            "15\n",
            "17\n",
            "19\n",
            "21\n",
            "23\n",
            "25\n",
            "27\n",
            "29\n",
            "31\n",
            "33\n",
            "35\n",
            "37\n",
            "39\n",
            "41\n",
            "43\n",
            "45\n",
            "47\n",
            "49\n",
            "51\n",
            "53\n",
            "55\n",
            "57\n",
            "59\n",
            "61\n",
            "63\n",
            "65\n",
            "67\n",
            "69\n",
            "71\n",
            "73\n",
            "75\n",
            "77\n",
            "79\n",
            "81\n",
            "83\n",
            "85\n",
            "87\n",
            "89\n",
            "91\n",
            "93\n",
            "95\n",
            "97\n",
            "99\n"
          ]
        }
      ]
    },
    {
      "cell_type": "code",
      "source": [],
      "metadata": {
        "id": "JKzkSTF6kvvF"
      },
      "execution_count": null,
      "outputs": []
    }
  ]
}
