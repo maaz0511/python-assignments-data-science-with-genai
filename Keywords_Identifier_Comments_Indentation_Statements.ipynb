{
  "nbformat": 4,
  "nbformat_minor": 0,
  "metadata": {
    "colab": {
      "provenance": []
    },
    "kernelspec": {
      "name": "python3",
      "display_name": "Python 3"
    },
    "language_info": {
      "name": "python"
    }
  },
  "cells": [
    {
      "cell_type": "code",
      "source": [
        "# 1. Explain the significance of Python keywords and provide examples of five keywords.\n",
        "\n",
        "\"\"\"\n",
        "Keywords:\n",
        "  - Keywords are the words which is reserved for python interpreter. (reserved words)\n",
        "  - Only python interpreter knows these words. (special meaning to interpreter)\n",
        "  - We cannot use them for naming our variables, functions, classes (identifiers).\n",
        "  - Example: if, else, elif, int, float, function, continue, while, for, bool, class, True, False, etc\n",
        "\"\"\"\n",
        "\n",
        "# total keywords in python\n",
        "print(help(\"keywords\"))\n",
        "\n",
        "# examples\n",
        "if True:\n",
        "  x = 5\n",
        "else:\n",
        "  x = 10\n",
        "\n",
        "print(\"x value: \", x)\n",
        "\n",
        "for i in range(x):\n",
        "  if i == 3:\n",
        "    continue\n",
        "  print(i)\n",
        "\n",
        "def function1():\n",
        "  print(\"Inside a function.\")\n",
        "function1()"
      ],
      "metadata": {
        "colab": {
          "base_uri": "https://localhost:8080/"
        },
        "id": "qTZxLuIhy-qt",
        "outputId": "a211fb63-4651-436c-fda3-58a073919e68"
      },
      "execution_count": 42,
      "outputs": [
        {
          "output_type": "stream",
          "name": "stdout",
          "text": [
            "\n",
            "Here is a list of the Python keywords.  Enter any keyword to get more help.\n",
            "\n",
            "False               class               from                or\n",
            "None                continue            global              pass\n",
            "True                def                 if                  raise\n",
            "and                 del                 import              return\n",
            "as                  elif                in                  try\n",
            "assert              else                is                  while\n",
            "async               except              lambda              with\n",
            "await               finally             nonlocal            yield\n",
            "break               for                 not                 \n",
            "\n",
            "None\n",
            "x value:  5\n",
            "0\n",
            "1\n",
            "2\n",
            "4\n",
            "Inside a function.\n"
          ]
        }
      ]
    },
    {
      "cell_type": "code",
      "source": [
        "# 2. Describe the rules for defining identifiers in Python and provide an example.\n",
        "\n",
        "\"\"\"\n",
        "Rules:\n",
        "  - It contains alphabets, digits, underscore only. Eg: a1, age, username etc\n",
        "  - It cannot start with digits, only with alphabets or underscore only. Eg: _ , _age, etc\n",
        "  - It cannot be any \"keyword\" name. Eg: int, float, if, else\n",
        "  - Name should be meaningful.\n",
        "  - It is case sensitive. Meaning age and Age are 2 different identifiers.\n",
        "\"\"\"\n",
        "\n",
        "# valid identifers\n",
        "a = 123\n",
        "abc12 = 123\n",
        "_123 = 123\n",
        "\n",
        "# invalid\n",
        "1a = 23\n",
        "%nam = 12\n",
        "int = 234"
      ],
      "metadata": {
        "colab": {
          "base_uri": "https://localhost:8080/",
          "height": 110
        },
        "id": "WPPQyFAMy-oX",
        "outputId": "0d659bc8-fbfa-4fb2-ec3c-0da2006a514f"
      },
      "execution_count": 35,
      "outputs": [
        {
          "output_type": "error",
          "ename": "SyntaxError",
          "evalue": "invalid decimal literal (ipython-input-1396742530.py, line 18)",
          "traceback": [
            "\u001b[0;36m  File \u001b[0;32m\"/tmp/ipython-input-1396742530.py\"\u001b[0;36m, line \u001b[0;32m18\u001b[0m\n\u001b[0;31m    1a = 23\u001b[0m\n\u001b[0m    ^\u001b[0m\n\u001b[0;31mSyntaxError\u001b[0m\u001b[0;31m:\u001b[0m invalid decimal literal\n"
          ]
        }
      ]
    },
    {
      "cell_type": "code",
      "source": [
        "# 3. What are comments in Python, and why are they useful? Provide an example.\n",
        "\n",
        "\"\"\"\n",
        "Comments:\n",
        "  - Comments are text/strings in the code which is not executed by python interpreter.\n",
        "  - It is used to give extra information regaring any variable, function, or detail.\n",
        "  - It is used to explain code and make it more readable.\n",
        "  - 2 Types of Comments: Single line(#) and multi line (\"\"\" \"\"\")\n",
        "\"\"\"\n",
        "\n",
        "# age of the user\n",
        "age = int(input(\"Enter your age: \"))\n",
        "\n",
        "# check age of the user greater than or equal to 18 or not\n",
        "if age >= 18:\n",
        "  print(\"You are now eligible to vote.\")\n",
        "else:\n",
        "  print(\"Not eligible to vote\")"
      ],
      "metadata": {
        "colab": {
          "base_uri": "https://localhost:8080/"
        },
        "id": "kNfNVsWUy-l7",
        "outputId": "56dd0547-13f1-428c-c77c-799f85fe4918"
      },
      "execution_count": 36,
      "outputs": [
        {
          "output_type": "stream",
          "name": "stdout",
          "text": [
            "Enter your age: 18\n",
            "You are now eligible to vote.\n"
          ]
        }
      ]
    },
    {
      "cell_type": "code",
      "source": [
        "# 4. Why is proper indentation important in Python?\n",
        "\n",
        "\"\"\"\n",
        "Indentation:\n",
        "  - It defines the structure and flow of the code.\n",
        "  - It refers to adding white spaces before a statement to a particular block of code.\n",
        "  - All the statements with the same space to the left, belongs to a same code block.\n",
        "  - Other programming languages uses curly brackets {}, but python uses indentation.\n",
        "  - If not given properly it will show \"IndentationError.\n",
        "  - It is used in if-else, for, while loop, function, classes etc.\n",
        "  - 1 tab  == 4 white spaces\n",
        "\"\"\"\n",
        "\n",
        "for i in range(5):\n",
        "  print(i)"
      ],
      "metadata": {
        "colab": {
          "base_uri": "https://localhost:8080/"
        },
        "id": "CgLuNaUOy-jh",
        "outputId": "2281d7d7-2efc-4854-a3d0-c1c6ea4ddbca"
      },
      "execution_count": 20,
      "outputs": [
        {
          "output_type": "stream",
          "name": "stdout",
          "text": [
            "Total Vowels:  17\n"
          ]
        }
      ]
    },
    {
      "cell_type": "code",
      "source": [
        "# 5. What happens if indentation is incorrect in Python?\n",
        "\n",
        "\"\"\"\n",
        "- It will show you \"unexpected behaviour\" or \"IndentationError\".\n",
        "\"\"\"\n",
        "\n",
        "if True:\n",
        "print(\"inside if\")"
      ],
      "metadata": {
        "colab": {
          "base_uri": "https://localhost:8080/",
          "height": 110
        },
        "id": "j1qfqkPvy-gq",
        "outputId": "ae591328-b29b-4419-c17d-33b7947daa23"
      },
      "execution_count": 43,
      "outputs": [
        {
          "output_type": "error",
          "ename": "IndentationError",
          "evalue": "expected an indented block after 'if' statement on line 7 (ipython-input-4183661516.py, line 8)",
          "traceback": [
            "\u001b[0;36m  File \u001b[0;32m\"/tmp/ipython-input-4183661516.py\"\u001b[0;36m, line \u001b[0;32m8\u001b[0m\n\u001b[0;31m    print(\"inside if\")\u001b[0m\n\u001b[0m    ^\u001b[0m\n\u001b[0;31mIndentationError\u001b[0m\u001b[0;31m:\u001b[0m expected an indented block after 'if' statement on line 7\n"
          ]
        }
      ]
    },
    {
      "cell_type": "code",
      "source": [
        "# 6. Differentiate between expression and statement in Python with examples.\n",
        "\n",
        "\n",
        "\"\"\"\n",
        "Expression:\n",
        "  - Any code that produces a value.\n",
        "  - It involves operator, operand, literals, variables etc.\n",
        "  - Eg: (2+4), x* 5, len(7) etc\n",
        "\"\"\"\n",
        "\n",
        "\"\"\"\n",
        "StatementS:\n",
        "  - A complete line of code that performs an action.\n",
        "  - It can contain expressions inside it.\n",
        "  - Example: assignment, if, for, while, function definitions.\n",
        "\"\"\"\n",
        "\n",
        "# expression: (2*3) ** 2\n",
        "# statements: x = (2*3) ** 2, print(x)\n",
        "x = (2*3) ** 2\n",
        "print(x)"
      ],
      "metadata": {
        "colab": {
          "base_uri": "https://localhost:8080/"
        },
        "id": "JEuFMDhty-dn",
        "outputId": "e3184043-424c-4913-a7dd-ada10a988986"
      },
      "execution_count": 44,
      "outputs": [
        {
          "output_type": "stream",
          "name": "stdout",
          "text": [
            "36\n"
          ]
        }
      ]
    },
    {
      "cell_type": "code",
      "source": [],
      "metadata": {
        "id": "JKzkSTF6kvvF"
      },
      "execution_count": null,
      "outputs": []
    }
  ]
}