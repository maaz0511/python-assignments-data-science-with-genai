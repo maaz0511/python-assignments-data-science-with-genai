{
  "nbformat": 4,
  "nbformat_minor": 0,
  "metadata": {
    "colab": {
      "provenance": []
    },
    "kernelspec": {
      "name": "python3",
      "display_name": "Python 3"
    },
    "language_info": {
      "name": "python"
    }
  },
  "cells": [
    {
      "cell_type": "code",
      "source": [
        "# 1. Calculate the sum, difference, product, and quotient of two numbers.\n",
        "numA = int(input(\"Enter number 1: \"))\n",
        "numB = int(input(\"Enter number 2: \"))\n",
        "\n",
        "print(\"Sum: \", numA + numB)\n",
        "print(\"Difference: \", numA - numB)\n",
        "print(\"Product: \", numA * numB)\n",
        "print(\"Quotient /: \", numA / numB)\n",
        "print(\"Quptient //: \", numA // numB)"
      ],
      "metadata": {
        "colab": {
          "base_uri": "https://localhost:8080/"
        },
        "id": "dDkyTgbUkjGm",
        "outputId": "e95cdfb8-91e1-4728-903d-c7a3b9e85f21"
      },
      "execution_count": 30,
      "outputs": [
        {
          "output_type": "stream",
          "name": "stdout",
          "text": [
            "Enter number 1: 10\n",
            "Enter number 2: 5\n",
            "Sum:  15\n",
            "Difference:  5\n",
            "Product:  50\n",
            "Quotient /:  2.0\n",
            "Quptient //:  2\n"
          ]
        }
      ]
    },
    {
      "cell_type": "code",
      "source": [
        "# 2. Perform various assignment operations on a variable.\n",
        "\n",
        "a = 5\n",
        "print(\"a = 5 : \", a)\n",
        "\n",
        "a += 5\n",
        "print(\"a += 5 : \", a)\n",
        "\n",
        "a -= 2\n",
        "print(\"a -= 2 : \", a)\n",
        "\n",
        "a *= 5\n",
        "print(\"a *= 8 : \", a)\n",
        "\n",
        "a /= 8\n",
        "print(\"a /= 8 : \", a)"
      ],
      "metadata": {
        "colab": {
          "base_uri": "https://localhost:8080/"
        },
        "id": "0P4s-T7rkjDy",
        "outputId": "c4c62124-6c0f-41ca-8ae4-bf1b977aaa1b"
      },
      "execution_count": 35,
      "outputs": [
        {
          "output_type": "stream",
          "name": "stdout",
          "text": [
            "a = 5 :  5\n",
            "a += 5 :  10\n",
            "a -= 2 :  8\n",
            "a *= 8 :  40\n",
            "a /= 8 :  5.0\n"
          ]
        }
      ]
    },
    {
      "cell_type": "code",
      "source": [
        "# 3. Compare two numbers and print the results.\n",
        "num1 = 10\n",
        "num2 = 5\n",
        "\n",
        "if num1 > num2 :\n",
        "  print(\"num1 is greater than num2.\")\n",
        "\n",
        "elif num1 == num2 :\n",
        "  print(\"num1 is equal to num2.\")\n",
        "\n",
        "else:\n",
        "  print(\"num1 is smaller than num2.\")"
      ],
      "metadata": {
        "colab": {
          "base_uri": "https://localhost:8080/"
        },
        "id": "DyyAc2sVkjBC",
        "outputId": "069cc9f3-b0f8-44e2-adfe-6679302975b2"
      },
      "execution_count": 36,
      "outputs": [
        {
          "output_type": "stream",
          "name": "stdout",
          "text": [
            "num1 is greater than num2.\n"
          ]
        }
      ]
    },
    {
      "cell_type": "code",
      "source": [
        "# 4. Check conditions using logical operators.\n",
        "\n",
        "name = \"Maaz\"\n",
        "password = \"1234\"\n",
        "\n",
        "if name==\"Maaz\" and password == \"1234\":\n",
        "  print(\"Welcome, Maaz !\")\n",
        "\n",
        "else:\n",
        "  print(\"Incorrect Name or Password\")\n",
        "\n",
        "print(\"\\nLOGICAL AND:\")\n",
        "print(\"1 and 1: \", 1 and 1)\n",
        "print(\"1 and 0: \", 1 and 0)\n",
        "print(\"0 and 1: \", 0 and 1)\n",
        "print(\"0 and 0: \", 0 and 0)\n",
        "\n",
        "print(\"\\nLOGICAL OR:\")\n",
        "print(\"1 or 1: \", 1 or 1)\n",
        "print(\"1 or 0: \", 1 or 0)\n",
        "print(\"0 or 1: \", 0 or 1)\n",
        "print(\"0 or 0: \", 0 or 0)\n",
        "\n",
        "print(\"\\nLOGICAL NOT:\")\n",
        "print(\"not 1: \", not 1)\n",
        "print(\"not 0: \", not 0)"
      ],
      "metadata": {
        "colab": {
          "base_uri": "https://localhost:8080/"
        },
        "id": "GEuwRzeMki-o",
        "outputId": "63441579-2a5b-485e-bc0b-9fc3f0d60ed0"
      },
      "execution_count": 42,
      "outputs": [
        {
          "output_type": "stream",
          "name": "stdout",
          "text": [
            "Welcome, Maaz !\n",
            "\n",
            "LOGICAL AND:\n",
            "1 and 1:  1\n",
            "1 and 0:  0\n",
            "0 and 1:  0\n",
            "0 and 0:  0\n",
            "\n",
            "LOGICAL OR:\n",
            "1 or 1:  1\n",
            "1 or 0:  1\n",
            "0 or 1:  1\n",
            "0 or 0:  0\n",
            "\n",
            "LOGICAL NOT:\n",
            "not 1:  False\n",
            "not 0:  True\n"
          ]
        }
      ]
    },
    {
      "cell_type": "code",
      "source": [
        "# 5. Check the identity of variables.\n",
        "a = 12309\n",
        "b = 12309\n",
        "c = a\n",
        "\n",
        "print(\"id of a: \", id(a))\n",
        "print(\"id of b: \", id(b))\n",
        "print(\"id of c: \", id(c))\n",
        "\n",
        "print(\"a == b : \", a == b)\n",
        "print(\"a == c : \", a == c)\n",
        "print(\"a is b : \", a is b)\n",
        "print(\"a is c : \", a is c)"
      ],
      "metadata": {
        "colab": {
          "base_uri": "https://localhost:8080/"
        },
        "id": "FQY71Ws-ki8A",
        "outputId": "8019981c-1468-4d85-f95e-e833a1e53b13"
      },
      "execution_count": 47,
      "outputs": [
        {
          "output_type": "stream",
          "name": "stdout",
          "text": [
            "id of a:  136328291830832\n",
            "id of b:  136328291832048\n",
            "id of c:  136328291830832\n",
            "a == b :  True\n",
            "a == c :  True\n",
            "a is b :  False\n",
            "a is c :  True\n"
          ]
        }
      ]
    },
    {
      "cell_type": "code",
      "source": [
        "# 6. Perform bitwise operations on any two integers.\n",
        "print(\"number 1 = 2 and number 2 = 3\")\n",
        "print(\"Bitwise and &: \", 2 & 3)\n",
        "print(\"Bitwise or |: \", 2 | 3)\n",
        "print(\"Bitwise not ~: \", ~3)\n",
        "print(\"Bitwise xor ^: \", 2 ^ 3)\n",
        "print(\"Bitwise left shift <<: \", 2 << 3)\n",
        "print(\"Bitwise right shift >>: \", 2 >> 3)"
      ],
      "metadata": {
        "colab": {
          "base_uri": "https://localhost:8080/"
        },
        "id": "0xv18oNdki5J",
        "outputId": "50a213f1-5f4d-4ed2-de7d-1e7919c8fce1"
      },
      "execution_count": 52,
      "outputs": [
        {
          "output_type": "stream",
          "name": "stdout",
          "text": [
            "number 1 = 2 and number 2 = 3\n",
            "Bitwise and &:  2\n",
            "Bitwise or |:  3\n",
            "Bitwise not ~:  -4\n",
            "Bitwise xor ^:  1\n",
            "Bitwise left shift <<:  16\n",
            "Bitwise right shift >>:  0\n"
          ]
        }
      ]
    },
    {
      "cell_type": "code",
      "source": [
        "# 7. Use unary operators to change the sign of a number.\n",
        "\n",
        "num = 10\n",
        "print(\"Original number: \", num)\n",
        "\n",
        "num = -num\n",
        "print(\"number after applying -num: \", num)\n",
        "\n",
        "num = -num\n",
        "print(\"again apply -num: \", num)"
      ],
      "metadata": {
        "colab": {
          "base_uri": "https://localhost:8080/"
        },
        "id": "1bkIHT92kv1E",
        "outputId": "a9a748b5-cdf4-454a-d4da-b8103593ea73"
      },
      "execution_count": 54,
      "outputs": [
        {
          "output_type": "stream",
          "name": "stdout",
          "text": [
            "Original number:  10\n",
            "number after applying -num:  -10\n",
            "again apply -num:  10\n"
          ]
        }
      ]
    },
    {
      "cell_type": "code",
      "source": [
        "# 8. Use the ternary operator to assign values based on conditions.\n",
        "a = 10\n",
        "b = 20\n",
        "c = a if (a>b) else b\n",
        "print(c,\" is the greatest number.\")"
      ],
      "metadata": {
        "colab": {
          "base_uri": "https://localhost:8080/"
        },
        "id": "okE4hhTakvxn",
        "outputId": "16cb1d54-7bca-422f-d032-5e24ca175f91"
      },
      "execution_count": 53,
      "outputs": [
        {
          "output_type": "stream",
          "name": "stdout",
          "text": [
            "20  is the greatest number.\n"
          ]
        }
      ]
    },
    {
      "cell_type": "code",
      "source": [],
      "metadata": {
        "id": "JKzkSTF6kvvF"
      },
      "execution_count": null,
      "outputs": []
    }
  ]
}
