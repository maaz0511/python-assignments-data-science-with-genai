{
  "nbformat": 4,
  "nbformat_minor": 0,
  "metadata": {
    "colab": {
      "provenance": []
    },
    "kernelspec": {
      "name": "python3",
      "display_name": "Python 3"
    },
    "language_info": {
      "name": "python"
    }
  },
  "cells": [
    {
      "cell_type": "code",
      "source": [
        "# 1. Convert an integer to a floating-point number.\n",
        "a = 102\n",
        "b = float(a)\n",
        "print(\"Integer number: \", a)\n",
        "print(\"Float number: \", b)"
      ],
      "metadata": {
        "colab": {
          "base_uri": "https://localhost:8080/"
        },
        "id": "wSA8uAdtiXzs",
        "outputId": "2e7d1c14-ab6b-4712-fc7e-e24cf13f3b88"
      },
      "execution_count": 19,
      "outputs": [
        {
          "output_type": "stream",
          "name": "stdout",
          "text": [
            "Integer number:  102\n",
            "Float number:  102.0\n"
          ]
        }
      ]
    },
    {
      "cell_type": "code",
      "source": [
        "# 2. Convert a float to an integer.\n",
        "a = 102.456\n",
        "b = int(a)\n",
        "print(\"Float number: \", a)\n",
        "print(\"Integer number: \", b)"
      ],
      "metadata": {
        "colab": {
          "base_uri": "https://localhost:8080/"
        },
        "id": "2EZAyEJ7iXxA",
        "outputId": "b5801f97-508c-4c61-e4e4-1cad9f7105f6"
      },
      "execution_count": 20,
      "outputs": [
        {
          "output_type": "stream",
          "name": "stdout",
          "text": [
            "Float number:  102.456\n",
            "Integer number:  102\n"
          ]
        }
      ]
    },
    {
      "cell_type": "code",
      "source": [
        "# 3. Convert an integer to a string.\n",
        "a = 102\n",
        "b = str(a)\n",
        "print(\"integer: \", a)\n",
        "print(\"string: \", b)\n"
      ],
      "metadata": {
        "colab": {
          "base_uri": "https://localhost:8080/"
        },
        "id": "6hWI-Z4UiXud",
        "outputId": "451abf71-17aa-4e76-acbd-1660a78472d0"
      },
      "execution_count": 24,
      "outputs": [
        {
          "output_type": "stream",
          "name": "stdout",
          "text": [
            "integer:  102\n",
            "string:  102\n"
          ]
        }
      ]
    },
    {
      "cell_type": "code",
      "source": [
        "# 4. Convert a list to a tuple.\n",
        "a = [1,2,3,\"list\"]\n",
        "b = tuple(a)\n",
        "print(\"list: \", a)\n",
        "print(\"tuple: \", b)"
      ],
      "metadata": {
        "id": "3s_oYIlEjqRw"
      },
      "execution_count": null,
      "outputs": []
    },
    {
      "cell_type": "code",
      "source": [
        "# 5. Convert a tuple to a list.\n",
        "a = (1,2,3,\"tuple\")\n",
        "b = list(a)\n",
        "print(\"Tuple: \", a)\n",
        "print(\"list: \", b)"
      ],
      "metadata": {
        "colab": {
          "base_uri": "https://localhost:8080/"
        },
        "id": "Bz48WOW_iXr7",
        "outputId": "b3596e43-4865-4dbe-ee74-faec2b8413d9"
      },
      "execution_count": 26,
      "outputs": [
        {
          "output_type": "stream",
          "name": "stdout",
          "text": [
            "Tuple:  (1, 2, 3, 'tuple')\n",
            "list:  [1, 2, 3, 'tuple']\n"
          ]
        }
      ]
    },
    {
      "cell_type": "code",
      "source": [
        "# 6. Convert a decimal number to binary.\n",
        "a = 2\n",
        "b = bin(a)\n",
        "print(\"decimal: \", a)\n",
        "print(\"binary: \", b)"
      ],
      "metadata": {
        "colab": {
          "base_uri": "https://localhost:8080/"
        },
        "id": "SbdfH6ayiXpZ",
        "outputId": "23e2b021-ca4c-4f8b-9cad-bf6958e52ec0"
      },
      "execution_count": 28,
      "outputs": [
        {
          "output_type": "stream",
          "name": "stdout",
          "text": [
            "decimal:  2\n",
            "binary:  0b10\n"
          ]
        }
      ]
    },
    {
      "cell_type": "code",
      "source": [
        "# 7. Convert a non-zero number to boolean.\n",
        "a = 1012\n",
        "b = bool(a)\n",
        "print(\"non zero: \", a)\n",
        "print(\"bool: \", b)"
      ],
      "metadata": {
        "colab": {
          "base_uri": "https://localhost:8080/"
        },
        "id": "35dcUx5xiXmP",
        "outputId": "66db316c-5d96-4fa1-d8e4-e26ee026ded5"
      },
      "execution_count": 29,
      "outputs": [
        {
          "output_type": "stream",
          "name": "stdout",
          "text": [
            "non zero:  1012\n",
            "bool:  True\n"
          ]
        }
      ]
    },
    {
      "cell_type": "code",
      "source": [],
      "metadata": {
        "id": "S8rt_JMOkF84"
      },
      "execution_count": null,
      "outputs": []
    }
  ]
}
