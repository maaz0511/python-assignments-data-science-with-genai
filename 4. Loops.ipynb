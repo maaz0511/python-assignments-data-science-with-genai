{
  "nbformat": 4,
  "nbformat_minor": 0,
  "metadata": {
    "colab": {
      "provenance": []
    },
    "kernelspec": {
      "name": "python3",
      "display_name": "Python 3"
    },
    "language_info": {
      "name": "python"
    }
  },
  "cells": [
    {
      "cell_type": "code",
      "source": [
        "# 1. Print numbers from 1 to 5 using a while loop.\n",
        "\n",
        "i = 1\n",
        "while(i<=5):\n",
        "  print(i)\n",
        "  i += 1"
      ],
      "metadata": {
        "colab": {
          "base_uri": "https://localhost:8080/"
        },
        "id": "qTZxLuIhy-qt",
        "outputId": "4c082354-b6c1-4834-c507-4e203bcddd1d"
      },
      "execution_count": 16,
      "outputs": [
        {
          "output_type": "stream",
          "name": "stdout",
          "text": [
            "1\n",
            "2\n",
            "3\n",
            "4\n",
            "5\n"
          ]
        }
      ]
    },
    {
      "cell_type": "code",
      "source": [
        "# 2. Calculate the sum of numbers from 1 to 10 using a while loop.\n",
        "\n",
        "i = 1\n",
        "sum = 0\n",
        "while(i <= 10):\n",
        "  sum = sum + i\n",
        "  i = i + 1\n",
        "print(\"Sum: \", sum)"
      ],
      "metadata": {
        "colab": {
          "base_uri": "https://localhost:8080/"
        },
        "id": "WPPQyFAMy-oX",
        "outputId": "d8887616-2a72-443b-e00b-7140eb755f3e"
      },
      "execution_count": 18,
      "outputs": [
        {
          "output_type": "stream",
          "name": "stdout",
          "text": [
            "Sum:  55\n"
          ]
        }
      ]
    },
    {
      "cell_type": "code",
      "source": [
        "# 3. Calculate the factorial of a number using a for loop.\n",
        "\n",
        "num = int(input(\"Enter a number to find the factorial: \"))\n",
        "fact = 1\n",
        "\n",
        "for i in range(1,num+1):\n",
        "  fact = fact * i\n",
        "\n",
        "print(\"Factorial: \", fact)"
      ],
      "metadata": {
        "colab": {
          "base_uri": "https://localhost:8080/"
        },
        "id": "kNfNVsWUy-l7",
        "outputId": "1aba9d86-2a4c-4875-9c19-caaf6c90534f"
      },
      "execution_count": 19,
      "outputs": [
        {
          "output_type": "stream",
          "name": "stdout",
          "text": [
            "Enter a number to find the factorial: 5\n",
            "Factorial:  120\n"
          ]
        }
      ]
    },
    {
      "cell_type": "code",
      "source": [
        "# 4. Count the number of vowels in a string using a for loop.\n",
        "\n",
        "a = \"Data Science with Generative AI Course by PW Skills\"\n",
        "vowels = 0\n",
        "\n",
        "for char in a:\n",
        "  if char in ['a', 'e', 'i', 'o', 'u', 'A', 'E', 'I', 'O', 'U']:\n",
        "    vowels = vowels + 1\n",
        "\n",
        "print(\"Total Vowels: \", vowels)"
      ],
      "metadata": {
        "colab": {
          "base_uri": "https://localhost:8080/"
        },
        "id": "CgLuNaUOy-jh",
        "outputId": "2281d7d7-2efc-4854-a3d0-c1c6ea4ddbca"
      },
      "execution_count": 20,
      "outputs": [
        {
          "output_type": "stream",
          "name": "stdout",
          "text": [
            "Total Vowels:  17\n"
          ]
        }
      ]
    },
    {
      "cell_type": "code",
      "source": [
        "# 5. Print a pattern using nested loops.\n",
        "\n",
        "for i in range(1,6):\n",
        "  for j in range(i):\n",
        "    print(j+1, end = \" \")\n",
        "  print()\n"
      ],
      "metadata": {
        "colab": {
          "base_uri": "https://localhost:8080/"
        },
        "id": "j1qfqkPvy-gq",
        "outputId": "f2285558-a5ef-4bdd-8691-f1382c77ddb3"
      },
      "execution_count": 30,
      "outputs": [
        {
          "output_type": "stream",
          "name": "stdout",
          "text": [
            "1 \n",
            "1 2 \n",
            "1 2 3 \n",
            "1 2 3 4 \n",
            "1 2 3 4 5 \n"
          ]
        }
      ]
    },
    {
      "cell_type": "code",
      "source": [
        "for i in range(5,0, -1):\n",
        "  for j in range(i):\n",
        "    print(j+1, end = \" \")\n",
        "  print()"
      ],
      "metadata": {
        "colab": {
          "base_uri": "https://localhost:8080/"
        },
        "id": "ZezM-puh4I8W",
        "outputId": "97d3a085-5d72-42c1-e948-7b1f9e100cc7"
      },
      "execution_count": 34,
      "outputs": [
        {
          "output_type": "stream",
          "name": "stdout",
          "text": [
            "1 2 3 4 5 \n",
            "1 2 3 4 \n",
            "1 2 3 \n",
            "1 2 \n",
            "1 \n"
          ]
        }
      ]
    },
    {
      "cell_type": "code",
      "source": [
        "# 6. Generate a multiplication table using nested loops.\n",
        "\n",
        "\n",
        "num = int(input(\"Enter any number to print table: \"))\n",
        "\n",
        "for i in range(1,11):\n",
        "  print(f\"{num} * {i} = {num * i}\")"
      ],
      "metadata": {
        "colab": {
          "base_uri": "https://localhost:8080/"
        },
        "id": "JEuFMDhty-dn",
        "outputId": "d7a79c4d-6fed-46f5-cc73-6da722959a62"
      },
      "execution_count": 21,
      "outputs": [
        {
          "output_type": "stream",
          "name": "stdout",
          "text": [
            "Enter any number to print table: 5\n",
            "5 * 1 = 5\n",
            "5 * 2 = 10\n",
            "5 * 3 = 15\n",
            "5 * 4 = 20\n",
            "5 * 5 = 25\n",
            "5 * 6 = 30\n",
            "5 * 7 = 35\n",
            "5 * 8 = 40\n",
            "5 * 9 = 45\n",
            "5 * 10 = 50\n"
          ]
        }
      ]
    },
    {
      "cell_type": "code",
      "source": [],
      "metadata": {
        "id": "JKzkSTF6kvvF"
      },
      "execution_count": null,
      "outputs": []
    }
  ]
}
